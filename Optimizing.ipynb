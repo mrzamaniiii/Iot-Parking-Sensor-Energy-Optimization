{
  "nbformat": 4,
  "nbformat_minor": 0,
  "metadata": {
    "colab": {
      "provenance": []
    },
    "kernelspec": {
      "name": "python3",
      "display_name": "Python 3"
    },
    "language_info": {
      "name": "python"
    }
  },
  "cells": [
    {
      "cell_type": "code",
      "execution_count": 4,
      "metadata": {
        "colab": {
          "base_uri": "https://localhost:8080/"
        },
        "id": "hVh_djWaQOx5",
        "outputId": "4b2a913b-75eb-496e-d99b-50c9ef4f3562"
      },
      "outputs": [
        {
          "output_type": "execute_result",
          "data": {
            "text/plain": [
              "array([7.80849019, 6.80055066])"
            ]
          },
          "metadata": {},
          "execution_count": 4
        }
      ],
      "source": [
        "import numpy as np\n",
        "from scipy.optimize import minimize\n",
        "\n",
        "sensor_positions = np.array([\n",
        "    (1, 2), (10, 3), (4, 8), (15, 7), (6, 1),\n",
        "    (9, 12), (14, 4), (3, 10), (7, 7), (12, 14)\n",
        "])\n",
        "\n",
        "packet_size = 2000\n",
        "Ec = 50\n",
        "k = 1\n",
        "\n",
        "def worst_case_energy(sink_position):\n",
        "    xs, ys = sink_position\n",
        "    distances = np.linalg.norm(sensor_positions - np.array([xs, ys]), axis=1)\n",
        "    energies = packet_size * (Ec + k * distances**2)\n",
        "    return np.max(energies)  # We minimize the worst-case sensor energy\n",
        "\n",
        "initial_guess = np.mean(sensor_positions, axis=0)\n",
        "\n",
        "result = minimize(worst_case_energy, initial_guess, method='Powell')\n",
        "optimal_sink_position = result.x\n",
        "optimal_sink_position"
      ]
    }
  ]
}