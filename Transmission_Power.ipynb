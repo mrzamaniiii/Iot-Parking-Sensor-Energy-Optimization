{
  "cells": [
    {
      "cell_type": "code",
      "execution_count": 17,
      "id": "5d225aa9",
      "metadata": {
        "id": "5d225aa9"
      },
      "outputs": [],
      "source": [
        "### Mohammadreza Zamani (10869960) – Asal Abbasnejadfard (10974178)\n",
        "\n",
        "import pandas as pd\n",
        "import numpy as np\n",
        "import matplotlib.pyplot as plt"
      ]
    },
    {
      "cell_type": "code",
      "execution_count": 2,
      "id": "861e5ced",
      "metadata": {
        "id": "861e5ced"
      },
      "outputs": [],
      "source": [
        "different_TX = './transmission_power.csv'"
      ]
    },
    {
      "cell_type": "code",
      "execution_count": 3,
      "id": "8dca9f7a",
      "metadata": {
        "id": "8dca9f7a"
      },
      "outputs": [],
      "source": [
        "df = pd.read_csv(different_TX, sep=',')"
      ]
    },
    {
      "cell_type": "code",
      "source": [
        "df"
      ],
      "metadata": {
        "colab": {
          "base_uri": "https://localhost:8080/",
          "height": 423
        },
        "id": "ZSjmrWU0E6gK",
        "outputId": "46af9b8f-76b5-4a3a-e57f-1e5cca7182bd"
      },
      "id": "ZSjmrWU0E6gK",
      "execution_count": 4,
      "outputs": [
        {
          "output_type": "execute_result",
          "data": {
            "text/plain": [
              "                      Timestamp    Data\n",
              "0    2024-03-03 19:04:29.955113  704.75\n",
              "1    2024-03-03 19:04:30.005088  703.82\n",
              "2    2024-03-03 19:04:30.054739  704.65\n",
              "3    2024-03-03 19:04:30.105067  704.07\n",
              "4    2024-03-03 19:04:30.154501  705.35\n",
              "..                          ...     ...\n",
              "209  2024-03-03 19:04:40.400460  707.31\n",
              "210  2024-03-03 19:04:40.450635  703.29\n",
              "211  2024-03-03 19:04:40.500073  704.22\n",
              "212  2024-03-03 19:04:40.550716  703.32\n",
              "213  2024-03-03 19:04:40.600001  705.78\n",
              "\n",
              "[214 rows x 2 columns]"
            ],
            "text/html": [
              "\n",
              "  <div id=\"df-89b46e6b-37e4-4876-b763-218fa1e33b0c\" class=\"colab-df-container\">\n",
              "    <div>\n",
              "<style scoped>\n",
              "    .dataframe tbody tr th:only-of-type {\n",
              "        vertical-align: middle;\n",
              "    }\n",
              "\n",
              "    .dataframe tbody tr th {\n",
              "        vertical-align: top;\n",
              "    }\n",
              "\n",
              "    .dataframe thead th {\n",
              "        text-align: right;\n",
              "    }\n",
              "</style>\n",
              "<table border=\"1\" class=\"dataframe\">\n",
              "  <thead>\n",
              "    <tr style=\"text-align: right;\">\n",
              "      <th></th>\n",
              "      <th>Timestamp</th>\n",
              "      <th>Data</th>\n",
              "    </tr>\n",
              "  </thead>\n",
              "  <tbody>\n",
              "    <tr>\n",
              "      <th>0</th>\n",
              "      <td>2024-03-03 19:04:29.955113</td>\n",
              "      <td>704.75</td>\n",
              "    </tr>\n",
              "    <tr>\n",
              "      <th>1</th>\n",
              "      <td>2024-03-03 19:04:30.005088</td>\n",
              "      <td>703.82</td>\n",
              "    </tr>\n",
              "    <tr>\n",
              "      <th>2</th>\n",
              "      <td>2024-03-03 19:04:30.054739</td>\n",
              "      <td>704.65</td>\n",
              "    </tr>\n",
              "    <tr>\n",
              "      <th>3</th>\n",
              "      <td>2024-03-03 19:04:30.105067</td>\n",
              "      <td>704.07</td>\n",
              "    </tr>\n",
              "    <tr>\n",
              "      <th>4</th>\n",
              "      <td>2024-03-03 19:04:30.154501</td>\n",
              "      <td>705.35</td>\n",
              "    </tr>\n",
              "    <tr>\n",
              "      <th>...</th>\n",
              "      <td>...</td>\n",
              "      <td>...</td>\n",
              "    </tr>\n",
              "    <tr>\n",
              "      <th>209</th>\n",
              "      <td>2024-03-03 19:04:40.400460</td>\n",
              "      <td>707.31</td>\n",
              "    </tr>\n",
              "    <tr>\n",
              "      <th>210</th>\n",
              "      <td>2024-03-03 19:04:40.450635</td>\n",
              "      <td>703.29</td>\n",
              "    </tr>\n",
              "    <tr>\n",
              "      <th>211</th>\n",
              "      <td>2024-03-03 19:04:40.500073</td>\n",
              "      <td>704.22</td>\n",
              "    </tr>\n",
              "    <tr>\n",
              "      <th>212</th>\n",
              "      <td>2024-03-03 19:04:40.550716</td>\n",
              "      <td>703.32</td>\n",
              "    </tr>\n",
              "    <tr>\n",
              "      <th>213</th>\n",
              "      <td>2024-03-03 19:04:40.600001</td>\n",
              "      <td>705.78</td>\n",
              "    </tr>\n",
              "  </tbody>\n",
              "</table>\n",
              "<p>214 rows × 2 columns</p>\n",
              "</div>\n",
              "    <div class=\"colab-df-buttons\">\n",
              "\n",
              "  <div class=\"colab-df-container\">\n",
              "    <button class=\"colab-df-convert\" onclick=\"convertToInteractive('df-89b46e6b-37e4-4876-b763-218fa1e33b0c')\"\n",
              "            title=\"Convert this dataframe to an interactive table.\"\n",
              "            style=\"display:none;\">\n",
              "\n",
              "  <svg xmlns=\"http://www.w3.org/2000/svg\" height=\"24px\" viewBox=\"0 -960 960 960\">\n",
              "    <path d=\"M120-120v-720h720v720H120Zm60-500h600v-160H180v160Zm220 220h160v-160H400v160Zm0 220h160v-160H400v160ZM180-400h160v-160H180v160Zm440 0h160v-160H620v160ZM180-180h160v-160H180v160Zm440 0h160v-160H620v160Z\"/>\n",
              "  </svg>\n",
              "    </button>\n",
              "\n",
              "  <style>\n",
              "    .colab-df-container {\n",
              "      display:flex;\n",
              "      gap: 12px;\n",
              "    }\n",
              "\n",
              "    .colab-df-convert {\n",
              "      background-color: #E8F0FE;\n",
              "      border: none;\n",
              "      border-radius: 50%;\n",
              "      cursor: pointer;\n",
              "      display: none;\n",
              "      fill: #1967D2;\n",
              "      height: 32px;\n",
              "      padding: 0 0 0 0;\n",
              "      width: 32px;\n",
              "    }\n",
              "\n",
              "    .colab-df-convert:hover {\n",
              "      background-color: #E2EBFA;\n",
              "      box-shadow: 0px 1px 2px rgba(60, 64, 67, 0.3), 0px 1px 3px 1px rgba(60, 64, 67, 0.15);\n",
              "      fill: #174EA6;\n",
              "    }\n",
              "\n",
              "    .colab-df-buttons div {\n",
              "      margin-bottom: 4px;\n",
              "    }\n",
              "\n",
              "    [theme=dark] .colab-df-convert {\n",
              "      background-color: #3B4455;\n",
              "      fill: #D2E3FC;\n",
              "    }\n",
              "\n",
              "    [theme=dark] .colab-df-convert:hover {\n",
              "      background-color: #434B5C;\n",
              "      box-shadow: 0px 1px 3px 1px rgba(0, 0, 0, 0.15);\n",
              "      filter: drop-shadow(0px 1px 2px rgba(0, 0, 0, 0.3));\n",
              "      fill: #FFFFFF;\n",
              "    }\n",
              "  </style>\n",
              "\n",
              "    <script>\n",
              "      const buttonEl =\n",
              "        document.querySelector('#df-89b46e6b-37e4-4876-b763-218fa1e33b0c button.colab-df-convert');\n",
              "      buttonEl.style.display =\n",
              "        google.colab.kernel.accessAllowed ? 'block' : 'none';\n",
              "\n",
              "      async function convertToInteractive(key) {\n",
              "        const element = document.querySelector('#df-89b46e6b-37e4-4876-b763-218fa1e33b0c');\n",
              "        const dataTable =\n",
              "          await google.colab.kernel.invokeFunction('convertToInteractive',\n",
              "                                                    [key], {});\n",
              "        if (!dataTable) return;\n",
              "\n",
              "        const docLinkHtml = 'Like what you see? Visit the ' +\n",
              "          '<a target=\"_blank\" href=https://colab.research.google.com/notebooks/data_table.ipynb>data table notebook</a>'\n",
              "          + ' to learn more about interactive tables.';\n",
              "        element.innerHTML = '';\n",
              "        dataTable['output_type'] = 'display_data';\n",
              "        await google.colab.output.renderOutput(dataTable, element);\n",
              "        const docLink = document.createElement('div');\n",
              "        docLink.innerHTML = docLinkHtml;\n",
              "        element.appendChild(docLink);\n",
              "      }\n",
              "    </script>\n",
              "  </div>\n",
              "\n",
              "\n",
              "<div id=\"df-ad7ef1a3-624f-4d48-b6f9-7f000330ede9\">\n",
              "  <button class=\"colab-df-quickchart\" onclick=\"quickchart('df-ad7ef1a3-624f-4d48-b6f9-7f000330ede9')\"\n",
              "            title=\"Suggest charts\"\n",
              "            style=\"display:none;\">\n",
              "\n",
              "<svg xmlns=\"http://www.w3.org/2000/svg\" height=\"24px\"viewBox=\"0 0 24 24\"\n",
              "     width=\"24px\">\n",
              "    <g>\n",
              "        <path d=\"M19 3H5c-1.1 0-2 .9-2 2v14c0 1.1.9 2 2 2h14c1.1 0 2-.9 2-2V5c0-1.1-.9-2-2-2zM9 17H7v-7h2v7zm4 0h-2V7h2v10zm4 0h-2v-4h2v4z\"/>\n",
              "    </g>\n",
              "</svg>\n",
              "  </button>\n",
              "\n",
              "<style>\n",
              "  .colab-df-quickchart {\n",
              "      --bg-color: #E8F0FE;\n",
              "      --fill-color: #1967D2;\n",
              "      --hover-bg-color: #E2EBFA;\n",
              "      --hover-fill-color: #174EA6;\n",
              "      --disabled-fill-color: #AAA;\n",
              "      --disabled-bg-color: #DDD;\n",
              "  }\n",
              "\n",
              "  [theme=dark] .colab-df-quickchart {\n",
              "      --bg-color: #3B4455;\n",
              "      --fill-color: #D2E3FC;\n",
              "      --hover-bg-color: #434B5C;\n",
              "      --hover-fill-color: #FFFFFF;\n",
              "      --disabled-bg-color: #3B4455;\n",
              "      --disabled-fill-color: #666;\n",
              "  }\n",
              "\n",
              "  .colab-df-quickchart {\n",
              "    background-color: var(--bg-color);\n",
              "    border: none;\n",
              "    border-radius: 50%;\n",
              "    cursor: pointer;\n",
              "    display: none;\n",
              "    fill: var(--fill-color);\n",
              "    height: 32px;\n",
              "    padding: 0;\n",
              "    width: 32px;\n",
              "  }\n",
              "\n",
              "  .colab-df-quickchart:hover {\n",
              "    background-color: var(--hover-bg-color);\n",
              "    box-shadow: 0 1px 2px rgba(60, 64, 67, 0.3), 0 1px 3px 1px rgba(60, 64, 67, 0.15);\n",
              "    fill: var(--button-hover-fill-color);\n",
              "  }\n",
              "\n",
              "  .colab-df-quickchart-complete:disabled,\n",
              "  .colab-df-quickchart-complete:disabled:hover {\n",
              "    background-color: var(--disabled-bg-color);\n",
              "    fill: var(--disabled-fill-color);\n",
              "    box-shadow: none;\n",
              "  }\n",
              "\n",
              "  .colab-df-spinner {\n",
              "    border: 2px solid var(--fill-color);\n",
              "    border-color: transparent;\n",
              "    border-bottom-color: var(--fill-color);\n",
              "    animation:\n",
              "      spin 1s steps(1) infinite;\n",
              "  }\n",
              "\n",
              "  @keyframes spin {\n",
              "    0% {\n",
              "      border-color: transparent;\n",
              "      border-bottom-color: var(--fill-color);\n",
              "      border-left-color: var(--fill-color);\n",
              "    }\n",
              "    20% {\n",
              "      border-color: transparent;\n",
              "      border-left-color: var(--fill-color);\n",
              "      border-top-color: var(--fill-color);\n",
              "    }\n",
              "    30% {\n",
              "      border-color: transparent;\n",
              "      border-left-color: var(--fill-color);\n",
              "      border-top-color: var(--fill-color);\n",
              "      border-right-color: var(--fill-color);\n",
              "    }\n",
              "    40% {\n",
              "      border-color: transparent;\n",
              "      border-right-color: var(--fill-color);\n",
              "      border-top-color: var(--fill-color);\n",
              "    }\n",
              "    60% {\n",
              "      border-color: transparent;\n",
              "      border-right-color: var(--fill-color);\n",
              "    }\n",
              "    80% {\n",
              "      border-color: transparent;\n",
              "      border-right-color: var(--fill-color);\n",
              "      border-bottom-color: var(--fill-color);\n",
              "    }\n",
              "    90% {\n",
              "      border-color: transparent;\n",
              "      border-bottom-color: var(--fill-color);\n",
              "    }\n",
              "  }\n",
              "</style>\n",
              "\n",
              "  <script>\n",
              "    async function quickchart(key) {\n",
              "      const quickchartButtonEl =\n",
              "        document.querySelector('#' + key + ' button');\n",
              "      quickchartButtonEl.disabled = true;  // To prevent multiple clicks.\n",
              "      quickchartButtonEl.classList.add('colab-df-spinner');\n",
              "      try {\n",
              "        const charts = await google.colab.kernel.invokeFunction(\n",
              "            'suggestCharts', [key], {});\n",
              "      } catch (error) {\n",
              "        console.error('Error during call to suggestCharts:', error);\n",
              "      }\n",
              "      quickchartButtonEl.classList.remove('colab-df-spinner');\n",
              "      quickchartButtonEl.classList.add('colab-df-quickchart-complete');\n",
              "    }\n",
              "    (() => {\n",
              "      let quickchartButtonEl =\n",
              "        document.querySelector('#df-ad7ef1a3-624f-4d48-b6f9-7f000330ede9 button');\n",
              "      quickchartButtonEl.style.display =\n",
              "        google.colab.kernel.accessAllowed ? 'block' : 'none';\n",
              "    })();\n",
              "  </script>\n",
              "</div>\n",
              "\n",
              "  <div id=\"id_c8d414ed-1650-4c32-ac03-bf190edcf526\">\n",
              "    <style>\n",
              "      .colab-df-generate {\n",
              "        background-color: #E8F0FE;\n",
              "        border: none;\n",
              "        border-radius: 50%;\n",
              "        cursor: pointer;\n",
              "        display: none;\n",
              "        fill: #1967D2;\n",
              "        height: 32px;\n",
              "        padding: 0 0 0 0;\n",
              "        width: 32px;\n",
              "      }\n",
              "\n",
              "      .colab-df-generate:hover {\n",
              "        background-color: #E2EBFA;\n",
              "        box-shadow: 0px 1px 2px rgba(60, 64, 67, 0.3), 0px 1px 3px 1px rgba(60, 64, 67, 0.15);\n",
              "        fill: #174EA6;\n",
              "      }\n",
              "\n",
              "      [theme=dark] .colab-df-generate {\n",
              "        background-color: #3B4455;\n",
              "        fill: #D2E3FC;\n",
              "      }\n",
              "\n",
              "      [theme=dark] .colab-df-generate:hover {\n",
              "        background-color: #434B5C;\n",
              "        box-shadow: 0px 1px 3px 1px rgba(0, 0, 0, 0.15);\n",
              "        filter: drop-shadow(0px 1px 2px rgba(0, 0, 0, 0.3));\n",
              "        fill: #FFFFFF;\n",
              "      }\n",
              "    </style>\n",
              "    <button class=\"colab-df-generate\" onclick=\"generateWithVariable('df')\"\n",
              "            title=\"Generate code using this dataframe.\"\n",
              "            style=\"display:none;\">\n",
              "\n",
              "  <svg xmlns=\"http://www.w3.org/2000/svg\" height=\"24px\"viewBox=\"0 0 24 24\"\n",
              "       width=\"24px\">\n",
              "    <path d=\"M7,19H8.4L18.45,9,17,7.55,7,17.6ZM5,21V16.75L18.45,3.32a2,2,0,0,1,2.83,0l1.4,1.43a1.91,1.91,0,0,1,.58,1.4,1.91,1.91,0,0,1-.58,1.4L9.25,21ZM18.45,9,17,7.55Zm-12,3A5.31,5.31,0,0,0,4.9,8.1,5.31,5.31,0,0,0,1,6.5,5.31,5.31,0,0,0,4.9,4.9,5.31,5.31,0,0,0,6.5,1,5.31,5.31,0,0,0,8.1,4.9,5.31,5.31,0,0,0,12,6.5,5.46,5.46,0,0,0,6.5,12Z\"/>\n",
              "  </svg>\n",
              "    </button>\n",
              "    <script>\n",
              "      (() => {\n",
              "      const buttonEl =\n",
              "        document.querySelector('#id_c8d414ed-1650-4c32-ac03-bf190edcf526 button.colab-df-generate');\n",
              "      buttonEl.style.display =\n",
              "        google.colab.kernel.accessAllowed ? 'block' : 'none';\n",
              "\n",
              "      buttonEl.onclick = () => {\n",
              "        google.colab.notebook.generateWithVariable('df');\n",
              "      }\n",
              "      })();\n",
              "    </script>\n",
              "  </div>\n",
              "\n",
              "    </div>\n",
              "  </div>\n"
            ],
            "application/vnd.google.colaboratory.intrinsic+json": {
              "type": "dataframe",
              "variable_name": "df",
              "summary": "{\n  \"name\": \"df\",\n  \"rows\": 214,\n  \"fields\": [\n    {\n      \"column\": \"Timestamp\",\n      \"properties\": {\n        \"dtype\": \"object\",\n        \"num_unique_values\": 214,\n        \"samples\": [\n          \"2024-03-03 19:04:30.404714\",\n          \"2024-03-03 19:04:39.801077\",\n          \"2024-03-03 19:04:33.253828\"\n        ],\n        \"semantic_type\": \"\",\n        \"description\": \"\"\n      }\n    },\n    {\n      \"column\": \"Data\",\n      \"properties\": {\n        \"dtype\": \"number\",\n        \"std\": 93.24059634831217,\n        \"min\": 696.73,\n        \"max\": 1239.49,\n        \"num_unique_values\": 134,\n        \"samples\": [\n          705.21,\n          700.11,\n          703.79\n        ],\n        \"semantic_type\": \"\",\n        \"description\": \"\"\n      }\n    }\n  ]\n}"
            }
          },
          "metadata": {},
          "execution_count": 4
        }
      ]
    },
    {
      "cell_type": "code",
      "execution_count": 5,
      "id": "a77ebd3d",
      "metadata": {
        "id": "a77ebd3d"
      },
      "outputs": [],
      "source": [
        "## Compute time lasting a battery\n",
        "\n",
        "energy_bat = 19960 # In Joules\n",
        "\n",
        "df['Timestamp'] = pd.to_datetime(df['Timestamp'])\n",
        "\n",
        "df['Diference'] = df['Timestamp'].diff().dt.total_seconds()\n",
        "\n",
        "df['Time'] = np.cumsum(df['Diference'])"
      ]
    },
    {
      "cell_type": "code",
      "execution_count": 6,
      "id": "462c0ead",
      "metadata": {
        "id": "462c0ead"
      },
      "outputs": [],
      "source": [
        "df['Data'] = df['Data'] *1e-3\n",
        "\n",
        "## High power data\n",
        "df_high = df[df['Data'] > 1100 * 1e-3]\n",
        "\n",
        "## Medium power data\n",
        "filtered_values = np.where((df['Data'] < 1100 * 1e-3) & (df['Data'] > 750 * 1e-3))\n",
        "df_medium = df.loc[filtered_values]\n",
        "\n",
        "## Low power data\n",
        "df_low = df[df['Data'] < 750 * 1e-3]"
      ]
    },
    {
      "cell_type": "code",
      "execution_count": 7,
      "id": "f21bc47a",
      "metadata": {
        "id": "f21bc47a",
        "outputId": "a733b294-6f7c-4084-dd3c-687ff8f8f882",
        "colab": {
          "base_uri": "https://localhost:8080/"
        }
      },
      "outputs": [
        {
          "output_type": "stream",
          "name": "stdout",
          "text": [
            "Average power of high power data: 1.2217599999999997 W\n",
            "Average power of medium power data: 0.7972942857142857 W\n",
            "Average power of low power data: 0.7042152999999999 W\n",
            "Average power: 0.7241889719626169 W\n"
          ]
        }
      ],
      "source": [
        "# Compute average power values\n",
        "\n",
        "df_high_av = np.mean(df_high['Data'], axis = 0)\n",
        "print('Average power of high power data:', df_high_av, \"W\")\n",
        "\n",
        "df_medium_av = np.mean(df_medium['Data'], axis = 0)\n",
        "print('Average power of medium power data:', df_medium_av, \"W\")\n",
        "\n",
        "df_low_av = np.mean(df_low['Data'], axis = 0)\n",
        "print('Average power of low power data:', df_low_av, \"W\")\n",
        "\n",
        "df_av = np.mean(df['Data'], axis = 0)\n",
        "print('Average power:', df_av, \"W\")\n"
      ]
    },
    {
      "cell_type": "code",
      "execution_count": 8,
      "id": "8b36f6c4",
      "metadata": {
        "id": "8b36f6c4",
        "outputId": "085e3c67-6501-4372-f822-727ba9edab62",
        "colab": {
          "base_uri": "https://localhost:8080/",
          "height": 718
        }
      },
      "outputs": [
        {
          "output_type": "display_data",
          "data": {
            "text/plain": [
              "<Figure size 1200x800 with 1 Axes>"
            ],
            "image/png": "[encoded data removed]"
          },
          "metadata": {}
        }
      ],
      "source": [
        "plt.figure(figsize=(12, 8))\n",
        "\n",
        "## Horizontal lines\n",
        "plt.axhline(y=df_high_av, color='g', linestyle='--', label='Transmission average power')\n",
        "plt.axhline(y=df_medium_av, color='y', linestyle='--', label='Idle average power')\n",
        "plt.axhline(y=df_low_av, color='m', linestyle='--', label='Sleep average power')\n",
        "plt.axhline(y=df_av, color='k', linestyle='--', label='Full average power')\n",
        "\n",
        "plt.plot(df['Time'], df['Data'], marker='o', linestyle='-')\n",
        "\n",
        "plt.plot(df_high['Time'], df_high['Data'],color = 'm', marker='x', linestyle='')\n",
        "plt.plot(df_medium['Time'], df_medium['Data'],color = 'y', marker='x', linestyle='')\n",
        "plt.plot(df_low['Time'], df_low['Data'],color = 'g', marker='x', linestyle='')\n",
        "\n",
        "plt.title('Power Consumption')\n",
        "plt.xlabel('Time [s]')\n",
        "plt.ylabel('Power [mW]')\n",
        "plt.grid(True)\n",
        "plt.legend(loc= 'center right')\n",
        "\n",
        "plt.show()"
      ]
    },
    {
      "cell_type": "code",
      "execution_count": 9,
      "id": "8c3a8d0e",
      "metadata": {
        "id": "8c3a8d0e"
      },
      "outputs": [],
      "source": [
        "low_values = np.where(df['Data'] < 750 * 1e-3)\n",
        "high_values = np.where(df['Data'] > 1150 * 1e-3)"
      ]
    },
    {
      "cell_type": "code",
      "execution_count": 10,
      "id": "415ba43c",
      "metadata": {
        "id": "415ba43c"
      },
      "outputs": [],
      "source": [
        "# One cycle duration\n",
        "cycle_duration = df_high['Time'].diff().mean() #in seconds"
      ]
    },
    {
      "cell_type": "code",
      "execution_count": 11,
      "id": "668a1c0e",
      "metadata": {
        "id": "668a1c0e",
        "outputId": "dcab7665-f2c0-4a10-803d-b26031c0bc9c",
        "colab": {
          "base_uri": "https://localhost:8080/"
        }
      },
      "outputs": [
        {
          "output_type": "stream",
          "name": "stdout",
          "text": [
            "Duration of transmission state:  0.05 s Energy used in idle state:  0.06108799999999999 W\n"
          ]
        }
      ],
      "source": [
        "# High value state duration\n",
        "high_duration = 50e-3 #in seconds\n",
        "high_energy = high_duration * df_high_av\n",
        "\n",
        "print(\"Duration of transmission state: \", high_duration, \"s\", \"Energy used in idle state: \", high_energy, \"W\")"
      ]
    },
    {
      "cell_type": "code",
      "execution_count": 12,
      "id": "805804e5",
      "metadata": {
        "id": "805804e5",
        "outputId": "fc0c4de9-37ad-4387-b9ff-6ce3d9cf5933",
        "colab": {
          "base_uri": "https://localhost:8080/"
        }
      },
      "outputs": [
        {
          "output_type": "stream",
          "name": "stdout",
          "text": [
            "Duration of idle state:  0.05 s Energy used in idle state:  0.03986471428571429 W\n"
          ]
        }
      ],
      "source": [
        "medium_duration = 50e-3 #in seconds\n",
        "medium_energy = medium_duration * df_medium_av\n",
        "print(\"Duration of idle state: \", medium_duration, \"s\", \"Energy used in idle state: \", medium_energy, \"W\")"
      ]
    },
    {
      "cell_type": "code",
      "execution_count": 13,
      "id": "0e70a16d",
      "metadata": {
        "id": "0e70a16d",
        "outputId": "3a68cb41-2f08-428b-cbae-747c9ea0ccce",
        "colab": {
          "base_uri": "https://localhost:8080/"
        }
      },
      "outputs": [
        {
          "output_type": "stream",
          "name": "stdout",
          "text": [
            "Duration of sleep state:  1.3995129999999991 s Energy used in sleep state:  0.06108799999999999 W\n"
          ]
        }
      ],
      "source": [
        "low_duration = cycle_duration - high_duration - medium_duration\n",
        "low_energy = low_duration * df_low_av\n",
        "\n",
        "print(\"Duration of sleep state: \", low_duration, \"s\", \"Energy used in sleep state: \", high_energy, \"W\")\n"
      ]
    },
    {
      "cell_type": "code",
      "execution_count": 14,
      "id": "b69256dc",
      "metadata": {
        "id": "b69256dc"
      },
      "outputs": [],
      "source": [
        "energy_cycle = high_energy + medium_energy + low_energy"
      ]
    },
    {
      "cell_type": "code",
      "execution_count": 15,
      "id": "1624d8a4",
      "metadata": {
        "scrolled": true,
        "id": "1624d8a4",
        "outputId": "94f0327b-1059-47b9-f00e-7c7a2033278b",
        "colab": {
          "base_uri": "https://localhost:8080/"
        }
      },
      "outputs": [
        {
          "output_type": "stream",
          "name": "stdout",
          "text": [
            "Duration of cycle:  1.4995129999999992 s Energy used in sleep state:  1.0865111814346133 W\n",
            "Energy stored by the battery:  19960 Joules\n",
            "Number of cycles of the battery:  18370 cycles\n",
            "Time to download the battery:  459.11905911053276 min\n"
          ]
        }
      ],
      "source": [
        "print(\"Duration of cycle: \", cycle_duration, \"s\", \"Energy used in sleep state: \", energy_cycle, \"W\")\n",
        "print(\"Energy stored by the battery: \", energy_bat, \"Joules\")\n",
        "print(\"Number of cycles of the battery: \", int(energy_bat//energy_cycle), \"cycles\")\n",
        "print(\"Time to download the battery: \", (energy_bat/energy_cycle * cycle_duration)/60, \"min\")"
      ]
    }
  ],
  "metadata": {
    "kernelspec": {
      "display_name": "Python 3 (ipykernel)",
      "language": "python",
      "name": "python3"
    },
    "language_info": {
      "codemirror_mode": {
        "name": "ipython",
        "version": 3
      },
      "file_extension": ".py",
      "mimetype": "text/x-python",
      "name": "python",
      "nbconvert_exporter": "python",
      "pygments_lexer": "ipython3",
      "version": "3.9.13"
    },
    "colab": {
      "provenance": []
    }
  },
  "nbformat": 4,
  "nbformat_minor": 5
}